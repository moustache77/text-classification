{
 "cells": [
  {
   "cell_type": "code",
   "execution_count": 4,
   "metadata": {
    "execution": {
     "iopub.execute_input": "2021-08-19T08:40:37.762094Z",
     "iopub.status.busy": "2021-08-19T08:40:37.761531Z",
     "iopub.status.idle": "2021-08-19T08:40:37.768865Z",
     "shell.execute_reply": "2021-08-19T08:40:37.767426Z",
     "shell.execute_reply.started": "2021-08-19T08:40:37.762054Z"
    }
   },
   "outputs": [],
   "source": [
    "import matplotlib.pyplot as plt\n",
    "import tensorflow as tf\n",
    "import zipfile\n",
    "import pandas as pd\n",
    "from tensorflow import keras\n",
    "from tensorflow.keras import layers\n",
    "from tensorflow.keras.layers.experimental.preprocessing import TextVectorization"
   ]
  },
  {
   "cell_type": "code",
   "execution_count": 5,
   "metadata": {
    "execution": {
     "iopub.execute_input": "2021-08-19T08:40:38.027215Z",
     "iopub.status.busy": "2021-08-19T08:40:38.026546Z",
     "iopub.status.idle": "2021-08-19T08:40:38.037950Z",
     "shell.execute_reply": "2021-08-19T08:40:38.037060Z",
     "shell.execute_reply.started": "2021-08-19T08:40:38.027160Z"
    }
   },
   "outputs": [],
   "source": [
    "import matplotlib.pyplot as plt\n",
    "def plotacc(history):\n",
    "    history_dict = history.history\n",
    "    loss_values = history_dict[\"loss\"]\n",
    "    val_loss_values = history_dict[\"val_loss\"]\n",
    "    epochs = range(1, len(loss_values) + 1)\n",
    "    plt.plot(epochs, loss_values, \"bo\", label=\"Training loss\")\n",
    "    plt.plot(epochs, val_loss_values, \"b\", label=\"Validation loss\")\n",
    "    plt.title(\"Training and validation loss\")\n",
    "    plt.xlabel(\"Epochs\")\n",
    "    plt.ylabel(\"Loss\")\n",
    "    plt.legend()\n",
    "    plt.show()\n",
    "    plt.clf()\n",
    "    acc = history_dict[\"accuracy\"]\n",
    "    val_acc = history_dict[\"val_accuracy\"]\n",
    "    plt.plot(epochs, acc, \"bo\", label=\"Training acc\")\n",
    "    plt.plot(epochs, val_acc, \"b\", label=\"Validation acc\")\n",
    "    plt.title(\"Training and validation accuracy\")\n",
    "    plt.xlabel(\"Epochs\")\n",
    "    plt.ylabel(\"Accuracy\")\n",
    "    plt.legend()\n",
    "    plt.show()"
   ]
  },
  {
   "cell_type": "markdown",
   "metadata": {},
   "source": [
    "### Model_0 Benchmark(BOW)"
   ]
  },
  {
   "cell_type": "code",
   "execution_count": null,
   "metadata": {},
   "outputs": [],
   "source": [
    "# Loading the dataset from the 'train' directory\n",
    "\n",
    "batch_size = 128\n",
    "seed = 1337 # Keep the seed same for both 'train' & 'validation' to avoid overlap\n",
    "\n",
    "train_ds = keras.preprocessing.text_dataset_from_directory(\n",
    "    \"train\", \n",
    "    batch_size=batch_size,\n",
    "    label_mode='int',\n",
    "    validation_split=0.2,\n",
    "    subset='training',\n",
    "    seed=seed)\n",
    "\n",
    "val_ds = keras.preprocessing.text_dataset_from_directory(\n",
    "    \"train\",\n",
    "    batch_size=batch_size,\n",
    "    label_mode='int',\n",
    "    validation_split=0.2,\n",
    "    subset='validation',\n",
    "    seed=seed)\n",
    "\n",
    "text_only_train_ds = train_ds.map(lambda x, y: x)"
   ]
  },
  {
   "cell_type": "code",
   "execution_count": null,
   "metadata": {},
   "outputs": [],
   "source": [
    "# Create a TextVectorization instance using 2-grams and 'count' mode\n",
    "# Note 'text_vectorization' can also be used a keras layer\n",
    "# We will use this during the prediction on test data\n",
    "\n",
    "# max_length = 50\n",
    "max_tokens = 20000\n",
    "text_vectorization = TextVectorization(\n",
    "    ngrams=2,\n",
    "    output_mode=\"count\",\n",
    "    max_tokens=max_tokens,\n",
    ")\n",
    "\n",
    "# Fit it on the train dataset\n",
    "text_vectorization.adapt(text_only_train_ds)\n",
    "\n",
    "# Map the vocabulary on the 'train' and 'validation' sets\n",
    "\n",
    "count_train_ds = train_ds.map(lambda x, y: (text_vectorization(x), y))\n",
    "count_val_ds = val_ds.map(lambda x, y: (text_vectorization(x), y))\n"
   ]
  },
  {
   "cell_type": "code",
   "execution_count": null,
   "metadata": {},
   "outputs": [],
   "source": [
    "inputs = keras.Input(shape=(max_tokens,))\n",
    "x = layers.Dense(256, activation=\"relu\")(inputs)\n",
    "x = layers.Dropout(0.5)(x)\n",
    "outputs = layers.Dense(4, activation=\"softmax\")(x)\n",
    "model = keras.Model(inputs, outputs)\n",
    "\n",
    "model.compile(optimizer=\"rmsprop\",\n",
    "              loss=\"sparse_categorical_crossentropy\",\n",
    "              metrics=[\"accuracy\"])\n",
    "\n",
    "model.summary()"
   ]
  },
  {
   "cell_type": "code",
   "execution_count": null,
   "metadata": {},
   "outputs": [],
   "source": [
    "callbacks = [\n",
    "    keras.callbacks.EarlyStopping(monitor=\"val_loss\",\n",
    "                                  patience=2),\n",
    "    keras.callbacks.ModelCheckpoint(\"bow_2grams_1.keras\",\n",
    "                                    save_best_only=True)\n",
    "]"
   ]
  },
  {
   "cell_type": "code",
   "execution_count": null,
   "metadata": {},
   "outputs": [],
   "source": [
    "# Train the model and use validation ds for early stopping and model saving\n",
    "\n",
    "history_0 = model.fit(count_train_ds,validation_data = count_val_ds, epochs=5, callbacks=callbacks)\n",
    "model = keras.models.load_model(\"bow_2grams_1.keras\")\n",
    "print(f\"Test acc: {model.evaluate(count_val_ds)[1]:.3f}\")"
   ]
  },
  {
   "cell_type": "code",
   "execution_count": null,
   "metadata": {},
   "outputs": [],
   "source": [
    "plotacc(history_0)"
   ]
  },
  {
   "cell_type": "code",
   "execution_count": null,
   "metadata": {},
   "outputs": [],
   "source": [
    "# Using the trained model to make prediction on unseen (test) data\n",
    "# Here we use the 'adapted' text_vectorization layer and include it as part of a prediction_model\n",
    "\n",
    "prediction_model = tf.keras.Sequential(\n",
    "    [text_vectorization, model])\n",
    "\n",
    "prediction_model.compile(\n",
    "    loss=keras.losses.SparseCategoricalCrossentropy(),\n",
    "    optimizer='adam',\n",
    "    metrics=['accuracy'])\n",
    "\n",
    "# Test it with `val_ds`, which yields raw strings\n",
    "loss, accuracy = prediction_model.evaluate(val_ds)\n",
    "print(\"Accuracy: {:2.2%}\".format(accuracy))"
   ]
  },
  {
   "cell_type": "code",
   "execution_count": null,
   "metadata": {},
   "outputs": [],
   "source": [
    "# Read the test data in the form of a dataframe\n",
    "\n",
    "df_test_data = pd.read_csv('data_v2/data_test_df.csv')\n",
    "inputs = df_test_data['data']"
   ]
  },
  {
   "cell_type": "code",
   "execution_count": null,
   "metadata": {},
   "outputs": [],
   "source": [
    "# Make sure you use the 'prediction_model' and not the trained 'model' alone\n",
    "# If you use the 'model' object, you will run int error as the data is still in the 'text' format and needs vectorization\n",
    "\n",
    "predicted_scores = prediction_model.predict(inputs)\n",
    "predicted_scores[0:5]"
   ]
  },
  {
   "cell_type": "markdown",
   "metadata": {},
   "source": [
    "### Model_1 Sequence model_1 Date8.12"
   ]
  },
  {
   "cell_type": "code",
   "execution_count": 6,
   "metadata": {
    "execution": {
     "iopub.execute_input": "2021-08-19T08:40:38.040307Z",
     "iopub.status.busy": "2021-08-19T08:40:38.039623Z",
     "iopub.status.idle": "2021-08-19T08:43:50.130615Z",
     "shell.execute_reply": "2021-08-19T08:43:50.129316Z",
     "shell.execute_reply.started": "2021-08-19T08:40:38.040258Z"
    }
   },
   "outputs": [
    {
     "name": "stdout",
     "output_type": "stream",
     "text": [
      "Found 120000 files belonging to 4 classes.\n",
      "Using 96000 files for training.\n",
      "Found 120000 files belonging to 4 classes.\n",
      "Using 24000 files for validation.\n"
     ]
    }
   ],
   "source": [
    "# Loading the dataset from the 'train' directory\n",
    "\n",
    "batch_size = 128\n",
    "seed = 1337 # Keep the seed same for both 'train' & 'validation' to avoid overlap\n",
    "\n",
    "train_ds = keras.preprocessing.text_dataset_from_directory(\n",
    "    \"../input/hw2-ycbs-273-intro-to-prac-ml/train\", \n",
    "    batch_size=batch_size,\n",
    "    label_mode='int',\n",
    "    validation_split=0.2,\n",
    "    subset='training',\n",
    "    seed=seed)\n",
    "\n",
    "val_ds = keras.preprocessing.text_dataset_from_directory(\n",
    "    \"../input/hw2-ycbs-273-intro-to-prac-ml/train\",\n",
    "    batch_size=batch_size,\n",
    "    label_mode='int',\n",
    "    validation_split=0.2,\n",
    "    subset='validation',\n",
    "    seed=seed)\n",
    "\n",
    "text_only_train_ds = train_ds.map(lambda x, y: x)"
   ]
  },
  {
   "cell_type": "code",
   "execution_count": null,
   "metadata": {
    "execution": {
     "iopub.execute_input": "2021-08-19T08:43:50.133099Z",
     "iopub.status.busy": "2021-08-19T08:43:50.132781Z"
    }
   },
   "outputs": [],
   "source": [
    "max_length = 100\n",
    "max_tokens = 20000\n",
    "text_vectorization = TextVectorization(\n",
    "    max_tokens=max_tokens,\n",
    "    output_mode=\"int\",\n",
    "    output_sequence_length=max_length,\n",
    ")\n",
    "\n",
    "# Fit it on the train dataset\n",
    "text_vectorization.adapt(text_only_train_ds)\n",
    "\n",
    "# Map the vocabulary on the 'train' and 'validation' sets\n",
    "\n",
    "count_train_ds = train_ds.map(lambda x, y: (text_vectorization(x), y))\n",
    "count_val_ds = val_ds.map(lambda x, y: (text_vectorization(x), y))"
   ]
  },
  {
   "cell_type": "code",
   "execution_count": null,
   "metadata": {},
   "outputs": [],
   "source": [
    "# Printing few samples of the raw data\n",
    "\n",
    "for text_batch, label_batch in train_ds.take(1):\n",
    "    for i in range(5):\n",
    "        print(\"News: \", text_batch.numpy()[i])\n",
    "        print(\"Label:\", label_batch.numpy()[i])"
   ]
  },
  {
   "cell_type": "code",
   "execution_count": null,
   "metadata": {},
   "outputs": [],
   "source": [
    "# Retrieve a batch (of 512 news and labels) from the dataset and printing 1 sample\n",
    "\n",
    "text_batch, label_batch = next(iter(train_ds))\n",
    "first_news, first_label = text_batch[0], label_batch[0]\n",
    "print(\"News\", first_news)\n",
    "print(\"Label\", first_label)"
   ]
  },
  {
   "cell_type": "code",
   "execution_count": null,
   "metadata": {},
   "outputs": [],
   "source": [
    "# Helper function for using 'text_vectorization'\n",
    "def count_vectorize_text(text, label):\n",
    "    text = tf.expand_dims(text, -1)\n",
    "    return text_vectorization(text), label"
   ]
  },
  {
   "cell_type": "code",
   "execution_count": null,
   "metadata": {},
   "outputs": [],
   "source": [
    "# Printing out vectorized text data using 'text_vectorization' layer\n",
    "print(\"'count' vectorized question:\",\n",
    "      count_vectorize_text(first_news, first_label)[0])"
   ]
  },
  {
   "cell_type": "code",
   "execution_count": null,
   "metadata": {},
   "outputs": [],
   "source": [
    "from tensorflow.keras import layers\n",
    "embedding_layer = layers.Embedding(input_dim=max_tokens, output_dim=256)"
   ]
  },
  {
   "cell_type": "code",
   "execution_count": null,
   "metadata": {},
   "outputs": [],
   "source": [
    "inputs = keras.Input(shape=(None,), dtype=\"int64\")\n",
    "embedded = layers.Embedding(\n",
    "    input_dim=max_tokens, output_dim=256, mask_zero=True)(inputs)\n",
    "x = layers.Bidirectional(layers.LSTM(32))(embedded)\n",
    "x = layers.Dropout(0.5)(x)\n",
    "outputs = layers.Dense(4, activation=\"softmax\")(x)\n",
    "\n",
    "model = keras.Model(inputs, outputs)\n",
    "\n",
    "model.compile(optimizer=\"rmsprop\",\n",
    "                  loss=\"sparse_categorical_crossentropy\",\n",
    "                  metrics=[\"accuracy\"])\n",
    "\n",
    "model.summary()"
   ]
  },
  {
   "cell_type": "code",
   "execution_count": null,
   "metadata": {},
   "outputs": [],
   "source": [
    "callbacks = [\n",
    "    keras.callbacks.ModelCheckpoint(\"embeddings_bidir_gru_with_masking.keras\",\n",
    "                                    save_best_only=True),\n",
    "    keras.callbacks.EarlyStopping(monitor=\"val_loss\",\n",
    "                                  patience=2),\n",
    "]"
   ]
  },
  {
   "cell_type": "code",
   "execution_count": null,
   "metadata": {},
   "outputs": [],
   "source": [
    "history1=model.fit(count_train_ds,\n",
    "          validation_data = count_val_ds,\n",
    "          epochs=10,\n",
    "          callbacks=callbacks,\n",
    "          )\n",
    "model = keras.models.load_model(\"embeddings_bidir_gru_with_masking.keras\")\n",
    "print(f\"Test acc: {model.evaluate(count_val_ds)[1]:.3f}\")"
   ]
  },
  {
   "cell_type": "code",
   "execution_count": null,
   "metadata": {},
   "outputs": [],
   "source": [
    "plotacc(history1)"
   ]
  },
  {
   "cell_type": "code",
   "execution_count": null,
   "metadata": {},
   "outputs": [],
   "source": [
    "prediction_model = tf.keras.Sequential(\n",
    "    [text_vectorization, model])\n",
    "\n",
    "prediction_model.compile(\n",
    "    loss=keras.losses.SparseCategoricalCrossentropy(),\n",
    "    optimizer='adam',\n",
    "    metrics=['accuracy'])\n",
    "\n",
    "# Test it with `val_ds`, which yields raw strings\n",
    "loss, accuracy = prediction_model.evaluate(val_ds)\n",
    "print(\"Accuracy: {:2.2%}\".format(accuracy))"
   ]
  },
  {
   "cell_type": "code",
   "execution_count": null,
   "metadata": {},
   "outputs": [],
   "source": [
    "# Read the test data in the form of a dataframe\n",
    "df_test_data = pd.read_csv('../input/newsdata/data_test_df.csv')\n",
    "inputs = df_test_data['data']"
   ]
  },
  {
   "cell_type": "code",
   "execution_count": null,
   "metadata": {},
   "outputs": [],
   "source": [
    "# Make sure you use the 'prediction_model' and not the trained 'model' alone\n",
    "# If you use the 'model' object, you will run int error as the data is still in the 'text' format and needs vectorization\n",
    "predicted_scores = prediction_model.predict(inputs)\n",
    "predicted_scores[0:5]"
   ]
  },
  {
   "cell_type": "markdown",
   "metadata": {},
   "source": [
    "### Summary1  \n",
    "embedding layer + masking  \n",
    "score:0.13983->0.13738"
   ]
  },
  {
   "cell_type": "markdown",
   "metadata": {},
   "source": [
    "## Model_2 Transformer architecture  Date 8.13-8.16"
   ]
  },
  {
   "cell_type": "code",
   "execution_count": null,
   "metadata": {},
   "outputs": [],
   "source": [
    "batch_size = 512\n",
    "seed = 1337\n",
    "\n",
    "train_ds = keras.preprocessing.text_dataset_from_directory(\n",
    "    \"../input/hw2-ycbs-273-intro-to-prac-ml/train\", \n",
    "    batch_size=batch_size,\n",
    "    label_mode='int',\n",
    "    validation_split=0.2,\n",
    "    subset='training',\n",
    "    seed=seed)\n",
    "\n",
    "val_ds = keras.preprocessing.text_dataset_from_directory(\n",
    "    \"../input/hw2-ycbs-273-intro-to-prac-ml/train\",\n",
    "    batch_size=batch_size,\n",
    "    label_mode='int',\n",
    "    validation_split=0.2,\n",
    "    subset='validation',\n",
    "    seed=seed)\n",
    "\n",
    "text_only_train_ds = train_ds.map(lambda x, y: x)"
   ]
  },
  {
   "cell_type": "code",
   "execution_count": null,
   "metadata": {},
   "outputs": [],
   "source": [
    "# max_length = 600\n",
    "# max_tokens = 20000\n",
    "max_length = 650\n",
    "max_tokens = 25000\n",
    "text_vectorization = TextVectorization(\n",
    "    max_tokens=max_tokens,\n",
    "    output_mode=\"int\",\n",
    "    output_sequence_length=max_length,\n",
    "    standardize='lower_and_strip_punctuation',\n",
    "    split='whitespace',\n",
    ")"
   ]
  },
  {
   "cell_type": "code",
   "execution_count": null,
   "metadata": {},
   "outputs": [],
   "source": [
    "text_vectorization.adapt(text_only_train_ds)\n",
    "count_train_ds = train_ds.map(lambda x, y: (text_vectorization(x), y))\n",
    "count_val_ds = val_ds.map(lambda x, y: (text_vectorization(x), y))"
   ]
  },
  {
   "cell_type": "code",
   "execution_count": null,
   "metadata": {},
   "outputs": [],
   "source": [
    "embedding_layer = layers.Embedding(input_dim=max_tokens, output_dim=256)"
   ]
  },
  {
   "cell_type": "code",
   "execution_count": null,
   "metadata": {},
   "outputs": [],
   "source": [
    "vocab_size = 20000\n",
    "embed_dim = 256\n",
    "num_heads = 2\n",
    "dense_dim = 32"
   ]
  },
  {
   "cell_type": "code",
   "execution_count": null,
   "metadata": {},
   "outputs": [],
   "source": [
    "dense_proj = keras.Sequential(\n",
    "            [layers.Dense(dense_dim, activation=\"relu\"),\n",
    "             layers.Dense(embed_dim),]\n",
    "        )"
   ]
  },
  {
   "cell_type": "code",
   "execution_count": null,
   "metadata": {},
   "outputs": [],
   "source": [
    "#model 2 \n",
    "#-----------------\n",
    "# max_length = 600\n",
    "# max_tokens = 20000\n",
    "#score 0.137\n",
    "#-----------------\n",
    "# max_length = 650\n",
    "# max_tokens = 25000\n",
    "#score 0.130\n",
    "inputs = keras.Input(shape=(None,), dtype=\"int64\")\n",
    "embedded = layers.Embedding(\n",
    "    input_dim=max_tokens, output_dim=256, mask_zero=True)(inputs)\n",
    "\n",
    "mask = embedding_layer.compute_mask(inputs)\n",
    "attention_output = layers.MultiHeadAttention(\n",
    "            num_heads=num_heads, \n",
    "            key_dim=embed_dim\n",
    "            )(embedded, embedded, attention_mask=mask)\n",
    "\n",
    "proj_input = layers.LayerNormalization()(embedded + attention_output)\n",
    "proj_output = dense_proj(proj_input)\n",
    "\n",
    "x = layers.LayerNormalization()(proj_input + proj_output)\n",
    "x = layers.GlobalMaxPooling1D()(x)\n",
    "x = layers.Dropout(0.5)(x)\n",
    "outputs = layers.Dense(4, activation=\"softmax\")(x)\n",
    "model = keras.Model(inputs, outputs)"
   ]
  },
  {
   "cell_type": "code",
   "execution_count": null,
   "metadata": {},
   "outputs": [],
   "source": [
    "model.compile(optimizer=\"rmsprop\",\n",
    "              loss=\"sparse_categorical_crossentropy\",\n",
    "              metrics=[\"accuracy\"])\n",
    "model.summary()"
   ]
  },
  {
   "cell_type": "code",
   "execution_count": null,
   "metadata": {},
   "outputs": [],
   "source": [
    "callbacks = [\n",
    "    keras.callbacks.EarlyStopping(monitor=\"val_loss\",\n",
    "                                  patience=2),\n",
    "    keras.callbacks.ModelCheckpoint(\"bow_2grams_1.keras\",\n",
    "                                    save_best_only=True)\n",
    "]"
   ]
  },
  {
   "cell_type": "code",
   "execution_count": null,
   "metadata": {},
   "outputs": [],
   "source": [
    "history2 = model.fit(count_train_ds,validation_data = count_val_ds, epochs=10, callbacks=callbacks)\n",
    "model = keras.models.load_model(\"bow_2grams_1.keras\")\n",
    "print(f\"Test acc: {model.evaluate(count_val_ds)[1]:.3f}\")"
   ]
  },
  {
   "cell_type": "code",
   "execution_count": null,
   "metadata": {},
   "outputs": [],
   "source": [
    "plotacc(history2)"
   ]
  },
  {
   "cell_type": "code",
   "execution_count": null,
   "metadata": {},
   "outputs": [],
   "source": [
    "prediction_model = tf.keras.Sequential(\n",
    "    [text_vectorization, model])\n",
    "\n",
    "prediction_model.compile(\n",
    "    loss=keras.losses.SparseCategoricalCrossentropy(),\n",
    "    optimizer='adam',\n",
    "    metrics=['accuracy'])\n",
    "loss, accuracy = prediction_model.evaluate(val_ds)\n",
    "print(\"Accuracy: {:2.2%}\".format(accuracy))"
   ]
  },
  {
   "cell_type": "code",
   "execution_count": null,
   "metadata": {},
   "outputs": [],
   "source": [
    "df_test_data = pd.read_csv('../input/hw2-ycbs-273-intro-to-prac-ml/data_test_df.csv')\n",
    "inputs = df_test_data['data']"
   ]
  },
  {
   "cell_type": "code",
   "execution_count": null,
   "metadata": {},
   "outputs": [],
   "source": [
    "predicted_scores = prediction_model.predict(inputs)\n",
    "predicted_scores[0:5]"
   ]
  },
  {
   "cell_type": "markdown",
   "metadata": {},
   "source": [
    "## Summary2\n",
    " combine the Transformer encoder and a pooling layer\n",
    "##### model 2  \n",
    " max_length = 600  \n",
    " max_tokens = 20000  \n",
    "score 0.137  \n",
    "\n",
    " max_length = 650  \n",
    " max_tokens = 25000  \n",
    "score 0.137-->0.130"
   ]
  },
  {
   "cell_type": "markdown",
   "metadata": {},
   "source": [
    "## Model 4:Sequence model_2(pretrained word embeddings)   Date 8.17"
   ]
  },
  {
   "cell_type": "code",
   "execution_count": null,
   "metadata": {},
   "outputs": [],
   "source": [
    "max_length = 650\n",
    "max_tokens = 25000\n",
    "text_vectorization = TextVectorization(\n",
    "    max_tokens=max_tokens,\n",
    "    output_mode=\"int\",\n",
    "    output_sequence_length=max_length,\n",
    "    standardize='lower_and_strip_punctuation',\n",
    "    split='whitespace',\n",
    ")"
   ]
  },
  {
   "cell_type": "code",
   "execution_count": null,
   "metadata": {},
   "outputs": [],
   "source": [
    "text_vectorization.adapt(text_only_train_ds)\n",
    "count_train_ds = train_ds.map(lambda x, y: (text_vectorization(x), y))\n",
    "count_val_ds = val_ds.map(lambda x, y: (text_vectorization(x), y))"
   ]
  },
  {
   "cell_type": "code",
   "execution_count": null,
   "metadata": {},
   "outputs": [],
   "source": [
    "embedding_layer = layers.Embedding(input_dim=max_tokens, output_dim=256)"
   ]
  },
  {
   "cell_type": "code",
   "execution_count": null,
   "metadata": {},
   "outputs": [],
   "source": [
    "text_batch, label_batch = next(iter(train_ds))\n",
    "first_news, first_label = text_batch[0], label_batch[0]\n",
    "print(\"News\", first_news)\n",
    "print(\"Label\", first_label)"
   ]
  },
  {
   "cell_type": "code",
   "execution_count": null,
   "metadata": {},
   "outputs": [],
   "source": [
    "def count_vectorize_text(text, label):\n",
    "    text = tf.expand_dims(text, -1)\n",
    "    return text_vectorization(text), label"
   ]
  },
  {
   "cell_type": "code",
   "execution_count": null,
   "metadata": {},
   "outputs": [],
   "source": [
    "print(\"'count' vectorized question:\",\n",
    "      count_vectorize_text(first_news, first_label)[0])"
   ]
  },
  {
   "cell_type": "code",
   "execution_count": null,
   "metadata": {},
   "outputs": [],
   "source": [
    "#use glove300\n",
    "import numpy as np\n",
    "path_to_glove_file = \"../input/glove6b/glove.6B.300d.txt\"\n",
    "\n",
    "embeddings_index = {}\n",
    "with open(path_to_glove_file) as f:\n",
    "    for line in f:\n",
    "        word, coefs = line.split(maxsplit=1)\n",
    "        coefs = np.fromstring(coefs, \"f\", sep=\" \")\n",
    "        embeddings_index[word] = coefs\n",
    "\n",
    "print(f\"Found {len(embeddings_index)} word vectors.\")"
   ]
  },
  {
   "cell_type": "code",
   "execution_count": null,
   "metadata": {},
   "outputs": [],
   "source": [
    "embedding_dim = 300\n",
    "\n",
    "vocabulary = text_vectorization.get_vocabulary()\n",
    "word_index = dict(zip(vocabulary, range(len(vocabulary))))\n",
    "\n",
    "embedding_matrix = np.zeros((max_tokens, embedding_dim))\n",
    "for word, i in word_index.items():\n",
    "    if i < max_tokens:\n",
    "        embedding_vector = embeddings_index.get(word)\n",
    "    if embedding_vector is not None:\n",
    "        embedding_matrix[i] = embedding_vector"
   ]
  },
  {
   "cell_type": "code",
   "execution_count": null,
   "metadata": {},
   "outputs": [],
   "source": [
    "embedding_layer = layers.Embedding(\n",
    "    max_tokens,\n",
    "    embedding_dim,\n",
    "    embeddings_initializer=keras.initializers.Constant(embedding_matrix),\n",
    "    trainable=False,\n",
    "    mask_zero=True,\n",
    ")"
   ]
  },
  {
   "cell_type": "code",
   "execution_count": null,
   "metadata": {},
   "outputs": [],
   "source": [
    "#model 4\n",
    "#score 0.126\n",
    "#use LSTM and glove\n",
    "inputs = keras.Input(shape=(None,), dtype=\"int64\")\n",
    "embedded = embedding_layer(inputs)\n",
    "x = layers.Bidirectional(layers.LSTM(32))(embedded)\n",
    "x = layers.Dropout(0.5)(x)\n",
    "outputs = layers.Dense(4, activation=\"softmax\")(x)\n",
    "model = keras.Model(inputs, outputs)\n",
    "model.compile(optimizer=\"rmsprop\",\n",
    "              loss=\"sparse_categorical_crossentropy\",\n",
    "              metrics=[\"accuracy\"])\n",
    "model.summary()"
   ]
  },
  {
   "cell_type": "code",
   "execution_count": null,
   "metadata": {},
   "outputs": [],
   "source": [
    "callbacks = [\n",
    "    keras.callbacks.EarlyStopping(monitor=\"val_loss\",\n",
    "                                  patience=2),\n",
    "    keras.callbacks.ModelCheckpoint(\"bow_2grams_1.keras\",\n",
    "                                    save_best_only=True)\n",
    "]"
   ]
  },
  {
   "cell_type": "code",
   "execution_count": null,
   "metadata": {},
   "outputs": [],
   "source": [
    "history4 = model.fit(count_train_ds,validation_data = count_val_ds, epochs=20, callbacks=callbacks)\n",
    "model = keras.models.load_model(\"bow_2grams_1.keras\")\n",
    "print(f\"Test acc: {model.evaluate(count_val_ds)[1]:.3f}\")"
   ]
  },
  {
   "cell_type": "code",
   "execution_count": null,
   "metadata": {},
   "outputs": [],
   "source": [
    "plotacc(history4)"
   ]
  },
  {
   "cell_type": "code",
   "execution_count": null,
   "metadata": {},
   "outputs": [],
   "source": [
    "prediction_model = tf.keras.Sequential(\n",
    "    [text_vectorization, model])\n",
    "prediction_model.compile(\n",
    "    loss=keras.losses.SparseCategoricalCrossentropy(),\n",
    "    optimizer='adam',\n",
    "    metrics=['accuracy'])\n",
    "loss, accuracy = prediction_model.evaluate(val_ds)\n",
    "print(\"Accuracy: {:2.2%}\".format(accuracy))"
   ]
  },
  {
   "cell_type": "code",
   "execution_count": null,
   "metadata": {},
   "outputs": [],
   "source": [
    "df_test_data = pd.read_csv('../input/hw2-ycbs-273-intro-to-prac-ml/data_test_df.csv')\n",
    "inputs = df_test_data['data']"
   ]
  },
  {
   "cell_type": "code",
   "execution_count": null,
   "metadata": {},
   "outputs": [],
   "source": [
    "predicted_scores = prediction_model.predict(inputs)\n",
    "predicted_scores[0:5]"
   ]
  },
  {
   "cell_type": "markdown",
   "metadata": {},
   "source": [
    "## Summary 3  \n",
    "##### model 4    \n",
    "use LSTM and glove300  \n",
    "score 0.130-->0.126  "
   ]
  },
  {
   "cell_type": "markdown",
   "metadata": {},
   "source": [
    "## Model 4 update Date 8.18"
   ]
  },
  {
   "cell_type": "code",
   "execution_count": null,
   "metadata": {},
   "outputs": [],
   "source": [
    "# max_length = 650\n",
    "# max_tokens = 25000\n",
    "max_length = 700\n",
    "max_tokens = 30000\n",
    "text_vectorization = TextVectorization(\n",
    "    max_tokens=max_tokens,\n",
    "    output_mode=\"int\",\n",
    "    output_sequence_length=max_length,\n",
    "    standardize='lower_and_strip_punctuation',\n",
    "    split='whitespace',\n",
    ")"
   ]
  },
  {
   "cell_type": "code",
   "execution_count": null,
   "metadata": {},
   "outputs": [],
   "source": [
    "text_vectorization.adapt(text_only_train_ds)\n",
    "count_train_ds = train_ds.map(lambda x, y: (text_vectorization(x), y))\n",
    "count_val_ds = val_ds.map(lambda x, y: (text_vectorization(x), y))"
   ]
  },
  {
   "cell_type": "code",
   "execution_count": null,
   "metadata": {},
   "outputs": [],
   "source": [
    "embedding_layer = layers.Embedding(input_dim=max_tokens, output_dim=256)"
   ]
  },
  {
   "cell_type": "code",
   "execution_count": null,
   "metadata": {},
   "outputs": [],
   "source": [
    "def count_vectorize_text(text, label):\n",
    "    text = tf.expand_dims(text, -1)\n",
    "    return text_vectorization(text), label"
   ]
  },
  {
   "cell_type": "code",
   "execution_count": null,
   "metadata": {},
   "outputs": [],
   "source": [
    "print(\"'count' vectorized question:\",\n",
    "      count_vectorize_text(first_news, first_label)[0])"
   ]
  },
  {
   "cell_type": "code",
   "execution_count": null,
   "metadata": {},
   "outputs": [],
   "source": [
    "import numpy as np\n",
    "path_to_glove_file = \"../input/glove6b/glove.6B.300d.txt\"\n",
    "\n",
    "embeddings_index = {}\n",
    "with open(path_to_glove_file) as f:\n",
    "    for line in f:\n",
    "        word, coefs = line.split(maxsplit=1)\n",
    "        coefs = np.fromstring(coefs, \"f\", sep=\" \")\n",
    "        embeddings_index[word] = coefs\n",
    "\n",
    "print(f\"Found {len(embeddings_index)} word vectors.\")"
   ]
  },
  {
   "cell_type": "code",
   "execution_count": null,
   "metadata": {},
   "outputs": [],
   "source": [
    "embedding_dim = 300\n",
    "\n",
    "vocabulary = text_vectorization.get_vocabulary()\n",
    "word_index = dict(zip(vocabulary, range(len(vocabulary))))\n",
    "\n",
    "embedding_matrix = np.zeros((max_tokens, embedding_dim))\n",
    "for word, i in word_index.items():\n",
    "    if i < max_tokens:\n",
    "        embedding_vector = embeddings_index.get(word)\n",
    "    if embedding_vector is not None:\n",
    "        embedding_matrix[i] = embedding_vector"
   ]
  },
  {
   "cell_type": "code",
   "execution_count": null,
   "metadata": {},
   "outputs": [],
   "source": [
    "embedding_layer = layers.Embedding(\n",
    "    max_tokens,\n",
    "    embedding_dim,\n",
    "    embeddings_initializer=keras.initializers.Constant(embedding_matrix),\n",
    "    trainable=False,\n",
    "    mask_zero=True,\n",
    ")"
   ]
  },
  {
   "cell_type": "code",
   "execution_count": null,
   "metadata": {},
   "outputs": [],
   "source": [
    "#model 4 last update 2021/08/18\n",
    "\n",
    "#1.score 0.126\n",
    "#use LSTM and glove\n",
    "#---------------\n",
    "#2.score 0.120\n",
    "#take LSTM node from 32 to 64\n",
    "#---------------\n",
    "#3.score 0.119\n",
    "#enlarge the max tokens and max length\n",
    "inputs = keras.Input(shape=(None,), dtype=\"int64\")\n",
    "embedded = embedding_layer(inputs)\n",
    "x = layers.Bidirectional(layers.LSTM(64))(embedded)\n",
    "x = layers.Dropout(0.5)(x)\n",
    "outputs = layers.Dense(4, activation=\"softmax\")(x)\n",
    "model = keras.Model(inputs, outputs)\n",
    "model.compile(optimizer=\"rmsprop\",\n",
    "              loss=\"sparse_categorical_crossentropy\",\n",
    "              metrics=[\"accuracy\"])\n",
    "model.summary()"
   ]
  },
  {
   "cell_type": "code",
   "execution_count": null,
   "metadata": {},
   "outputs": [],
   "source": [
    "history5 = model.fit(count_train_ds,validation_data = count_val_ds, epochs=20, callbacks=callbacks)\n",
    "model = keras.models.load_model(\"bow_2grams_1.keras\")\n",
    "print(f\"Test acc: {model.evaluate(count_val_ds)[1]:.3f}\")"
   ]
  },
  {
   "cell_type": "code",
   "execution_count": null,
   "metadata": {},
   "outputs": [],
   "source": [
    "plotacc(history5)"
   ]
  },
  {
   "cell_type": "code",
   "execution_count": null,
   "metadata": {},
   "outputs": [],
   "source": [
    "prediction_model = tf.keras.Sequential(\n",
    "    [text_vectorization, model])\n",
    "prediction_model.compile(\n",
    "    loss=keras.losses.SparseCategoricalCrossentropy(),\n",
    "    optimizer='adam',\n",
    "    metrics=['accuracy'])\n",
    "loss, accuracy = prediction_model.evaluate(val_ds)\n",
    "print(\"Accuracy: {:2.2%}\".format(accuracy))"
   ]
  },
  {
   "cell_type": "code",
   "execution_count": null,
   "metadata": {},
   "outputs": [],
   "source": [
    "df_test_data = pd.read_csv('../input/hw2-ycbs-273-intro-to-prac-ml/data_test_df.csv')\n",
    "inputs = df_test_data['data']"
   ]
  },
  {
   "cell_type": "code",
   "execution_count": null,
   "metadata": {},
   "outputs": [],
   "source": [
    "predicted_scores = prediction_model.predict(inputs)\n",
    "predicted_scores[0:5]"
   ]
  },
  {
   "cell_type": "markdown",
   "metadata": {},
   "source": [
    "### Summary 4  \n",
    "##### model 4 update    \n",
    "take LSTM node from 32 to 64  \n",
    "score 0.126-->0.120 \n",
    "\n",
    "enlarge the max tokens and max length from (650,25000) to (700,30000)  \n",
    "score 0.120-->0.119"
   ]
  },
  {
   "cell_type": "markdown",
   "metadata": {},
   "source": [
    "## Save the prediction"
   ]
  },
  {
   "cell_type": "code",
   "execution_count": null,
   "metadata": {},
   "outputs": [],
   "source": [
    "# populating the dataframe to make a submission on Kaggle\n",
    "df_predictions = pd.DataFrame(predicted_scores, columns=['solution_' + str(i+1) for i in range(4)])\n",
    "df_predictions.index.rename('Id', inplace=True)\n",
    "df_predictions.head(30)"
   ]
  },
  {
   "cell_type": "code",
   "execution_count": null,
   "metadata": {},
   "outputs": [],
   "source": [
    "df_predictions.to_csv('df_predictions.csv')"
   ]
  }
 ],
 "metadata": {
  "kernelspec": {
   "display_name": "Python 3",
   "language": "python",
   "name": "python3"
  },
  "language_info": {
   "codemirror_mode": {
    "name": "ipython",
    "version": 3
   },
   "file_extension": ".py",
   "mimetype": "text/x-python",
   "name": "python",
   "nbconvert_exporter": "python",
   "pygments_lexer": "ipython3",
   "version": "3.8.5"
  }
 },
 "nbformat": 4,
 "nbformat_minor": 4
}
